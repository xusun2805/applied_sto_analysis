{
 "cells": [
  {
   "cell_type": "markdown",
   "metadata": {
    "nbpresent": {
     "id": "30ecdfba-25c4-437d-a7c1-11c57c459201"
    },
    "slideshow": {
     "slide_type": "slide"
    }
   },
   "source": [
    "# Presentation on SIMM and Athena SIMM Calculator"
   ]
  },
  {
   "cell_type": "code",
   "execution_count": 2,
   "metadata": {
    "nbpresent": {
     "id": "a9942176-b9e7-4d15-b805-842d5c145eee"
    },
    "slideshow": {
     "slide_type": "fragment"
    }
   },
   "outputs": [],
   "source": [
    "import pandas as pd\n",
    "import CPG.SIMM.SIMMLocalCalculator.capital.non_cleared_im.simm.unittest.simm_calculators_local as sc"
   ]
  },
  {
   "cell_type": "markdown",
   "metadata": {
    "nbpresent": {
     "id": "9176e800-dd14-403e-b435-8da8a81c0f89"
    },
    "slideshow": {
     "slide_type": "slide"
    }
   },
   "source": [
    "## SIMM Methodology\n",
    "\n",
    "I'll briefly introduce the SIMM methodology, and go over some examples on how to calculate IM based on the SIMM methodology. The official SIMM methodology document can be found [here](http://www2.isda.org/search?headerSearch=1&keyword=simm)"
   ]
  },
  {
   "cell_type": "markdown",
   "metadata": {
    "slideshow": {
     "slide_type": "slide"
    }
   },
   "source": [
    "### Brief Description of SIMM Methodology\n",
    "\n",
    "* SIMM is a sensitivity based method for calculating initial margins. \n",
    "* Each Trade is assigned to one of the 4 product classes. SIMM is calculated seperately for each of them.\n",
    "* Within each product class, initial margin is calculated by aggregating among the 6 risk classes\n",
    "* For each risk class, initial margin is the sum of Delta Margin, Vega Margin, Curvature Margin and Base Correlation Margin."
   ]
  },
  {
   "cell_type": "markdown",
   "metadata": {
    "slideshow": {
     "slide_type": "slide"
    }
   },
   "source": [
    "* Product classes: RatesFX, Credit, Equity and Commodity\n",
    "* Risk classes: Interest Rate, Credit (Qualifying), Credit (Non-Qualifying), Equity, Commodity and FX."
   ]
  },
  {
   "cell_type": "markdown",
   "metadata": {
    "nbpresent": {
     "id": "198d15f9-478d-491b-a057-63adf435170d"
    },
    "slideshow": {
     "slide_type": "subslide"
    }
   },
   "source": [
    "\n",
    "\n",
    "** Remark **\n",
    "\n",
    "* A trade that is assigned to one of the product classes can have risk in multiple risk classes. SIMM is calculated per risk classes within that product class. \n",
    "* Example: Equity derivatives can have risk in both IR and equity risk class. "
   ]
  },
  {
   "cell_type": "markdown",
   "metadata": {
    "slideshow": {
     "slide_type": "slide"
    }
   },
   "source": [
    "### Delta Margin for IR Risk Class\n",
    "\n",
    "* ** How do we calculate the Delta margin?**\n",
    "\n",
    "Roughly speaking, we aggregate weighted sensitivities across different levels of buckets."
   ]
  },
  {
   "cell_type": "markdown",
   "metadata": {
    "slideshow": {
     "slide_type": "slide"
    }
   },
   "source": [
    "* ** What are the risk factors for IR risk class?**\n",
    "\n",
    "We use $(k, i)$ to denote a risk factor, where $k$ is the rate tenor, and $i$ is the index name of the sub yield curve.\n",
    "\n",
    "* ** What is a sub yield curve? **\n",
    "\n",
    "Examples of sub yield curve: 'OIS_USD', 'Libor3m_USD', etc."
   ]
  },
  {
   "cell_type": "markdown",
   "metadata": {
    "slideshow": {
     "slide_type": "slide"
    }
   },
   "source": [
    "** In a summary, risk is seperately bucketed by currency, tenor and sub yiled curve index. i.e. a tuple (b, k, i).**\n",
    "\n",
    "There are also inflation and xccy that should be taken into consideration."
   ]
  },
  {
   "cell_type": "markdown",
   "metadata": {
    "slideshow": {
     "slide_type": "subslide"
    }
   },
   "source": [
    "Here is the methodology. \n",
    "* We found the net sensitivity $s^b_{k, i}$ for each currency $b$ to each risk factor $(k, i)$. Then we weight them by$$\n",
    "WS^b_{ik} = rw^b_k\\cdot s^b_{ik}\\cdot CR_b\n",
    "$$\n",
    "\n",
    "Here $rw^b_k$ is the risk weight per tenor vertex $k$, and $CR^b$ is the concentration risk factor for each currency $b$, given by $$\n",
    "CR_b = \\max\\biggl(1, \\sqrt{\\frac{\\biggl|\\sum_{k, i}s_{k, i}\\biggr|}{T_b}}\\biggr)\n",
    "$$\n",
    "where $T_b$ is the threshold for each currency $b$."
   ]
  },
  {
   "cell_type": "markdown",
   "metadata": {
    "slideshow": {
     "slide_type": "subslide"
    }
   },
   "source": [
    "* Then we aggregate the weighted sensitivities according to curve index $(i, j)$ and tenor $(k, l)$ within each currency $b$ by$$\n",
    "K^b = \\sqrt{\\sum_{i,j}\\biggl(\\sum_{k, l}WS^b_{jk}\\rho_{kl}WS^b_{il}\\biggr)\\phi_{ij}}\n",
    "$$\n",
    "where $\\rho_{kl}$ is the intra-bucket correlation, and $\\phi_{ij} = 0.982$ is the universal correlation between two sub yiled curves. "
   ]
  },
  {
   "cell_type": "markdown",
   "metadata": {
    "slideshow": {
     "slide_type": "subslide"
    }
   },
   "source": [
    "* Now we aggregate across buckets by$$\n",
    "K = \\sqrt{\\sum_b(K^b)^2+\\sum_{b, c}\\gamma_{bc}g_{bc}S^bS^c}\n",
    "$$\n",
    "where $$\n",
    "g_{bc} = \\frac{\\min(CR_b, CR_c)}{\\max(CR_b, CR_c)}\n",
    "$$\n",
    "$$\n",
    "S_b=\\max(\\min(\\sum_{i, k}WS^b_{ik}, K_b), -K^b)\n",
    "$$\n",
    "and $\\gamma_{bc}$ is the cross-bucket correlation. "
   ]
  },
  {
   "cell_type": "markdown",
   "metadata": {
    "nbpresent": {
     "id": "1253f536-0114-45b6-bfc9-9f0064eec716"
    },
    "slideshow": {
     "slide_type": "subslide"
    }
   },
   "source": [
    "Here is a list of all important parameters we need:\n",
    "* Risk weight $rw^b_k$ for each risk factor tenor $k$ and currency $b$;\n",
    "* Concenration threshold $T_b$ for each currency $b$;\n",
    "* Intra-bucket correlation $\\rho_{kl}$ and yield curve correlation $\\phi_{ij}$;\n",
    "* Cross-bucket correlation $g_{bc}$."
   ]
  },
  {
   "cell_type": "markdown",
   "metadata": {
    "slideshow": {
     "slide_type": "slide"
    }
   },
   "source": [
    "### Delta Margin for Other Risk Classes\n",
    "\n",
    "A few differences are applied for risk classes other than Interest Rates. In general, sensitivities should be firstly assigned to one of the buckets as specified in the ISDA SIMM Methodology document."
   ]
  },
  {
   "cell_type": "markdown",
   "metadata": {
    "slideshow": {
     "slide_type": "subslide"
    }
   },
   "source": [
    "#### Risk classes?\n",
    "\n",
    "* For Credit Qualifying/Non-Qualifying, risk factors are five credit spreads fro each issuer/seniority (Qualifying) or issuer/tranche (non-Qualifying) pair at vertices 1y, 2y, 3y, 5y and 10y. For each pair, at each vertex the sensitivities shall be netted across credit spreads to give the risk at that vertex.\n",
    "* For Commodity, risk factors are all the commodity prices.\n",
    "* For Equity, risk factors are all the equity prices.\n",
    "* For FX, risk factors are all the exchange rates."
   ]
  },
  {
   "cell_type": "markdown",
   "metadata": {
    "slideshow": {
     "slide_type": "subslide"
    }
   },
   "source": [
    "Methodology:\n",
    "* $$\n",
    "WS^b_k = rw^b_k\\cdot s^b_k\\cdot CR_k\n",
    "$$\n",
    "where"
   ]
  },
  {
   "cell_type": "markdown",
   "metadata": {
    "slideshow": {
     "slide_type": "subslide"
    }
   },
   "source": [
    "$$\n",
    "CR^b_k = \\max\\biggl(1, \\sqrt{\\frac{\\biggl|\\sum_js_j\\biggr|}{T_b}}\\biggr)\n",
    "$$\n",
    "for credit risk, and summation is taken for all $j$ that have the same issuer and seniority with $k$.\n",
    "$$\n",
    "CR^b_k = \\max\\biggl(1, \\sqrt{\\frac{|s_k|}{T_b}}\\biggr)\n",
    "$$\n",
    "for other risk classes."
   ]
  },
  {
   "cell_type": "markdown",
   "metadata": {
    "slideshow": {
     "slide_type": "subslide"
    }
   },
   "source": [
    "* Aggregate intra-bucket\n",
    "$$\n",
    "K^b = \\sqrt{WS^b_k\\rho_{kl}f_{kl}WS^b_l}\n",
    "$$\n",
    "where$$\n",
    "f_{kl} = \\frac{\\min(CR_k, CR_l)}{\\max(CR_k. CR_l)}\n",
    "$$"
   ]
  },
  {
   "cell_type": "markdown",
   "metadata": {
    "slideshow": {
     "slide_type": "subslide"
    }
   },
   "source": [
    "* Aggregate $K^b$ across buckets:$$\n",
    "K = \\sqrt{\\sum_b(K^b)^2+\\sum_{b,c}\\gamma_{bc}S^bS^c}+K^{residual}\n",
    "$$\n",
    "where the only difference from the IR case is the additional residual part that comes from the residual bucket, denoting the class that lies outside of all the other defined buckets."
   ]
  },
  {
   "cell_type": "markdown",
   "metadata": {
    "slideshow": {
     "slide_type": "slide"
    }
   },
   "source": [
    "### Vega Margin for Interest Rate Risk Class\n",
    "\n",
    "The calculation of vega margin is similar to the delta margin case, step by step as follows:"
   ]
  },
  {
   "cell_type": "markdown",
   "metadata": {
    "slideshow": {
     "slide_type": "subslide"
    }
   },
   "source": [
    "* Netting vega sensitivities across instruments, and weight by vega risk weights:$$\n",
    "VR_k = vrw^b_k\\biggl(\\sum_{i}vr^b_{ik}\\biggr)VCR_b\n",
    "$$\n",
    "where $VCR_b$ is the vega concentration risk $$\n",
    "VCR_b = \\max\\biggl(1, \\sqrt{\\frac{\\bigg|\\sum_{ik}vr^b_{ik}\\bigg|}{VT_b}}\\biggr)\n",
    "$$\n",
    "with the threshold $VT_b$ "
   ]
  },
  {
   "cell_type": "markdown",
   "metadata": {
    "slideshow": {
     "slide_type": "subslide"
    }
   },
   "source": [
    "* We now aggregate in an intra-bucket manner as follows:$$\n",
    "K^b = \\sqrt{VR\\cdot\\Sigma\\cdot VR^T}\n",
    "$$\n",
    "where $\\Sigma$ is the intra-bucket correlation matrix given by $(\\rho_{kl}\\cdot f_{kl})$. For IR risk class, $f_{kl}=1$."
   ]
  },
  {
   "cell_type": "markdown",
   "metadata": {
    "slideshow": {
     "slide_type": "subslide"
    }
   },
   "source": [
    "* Now aggregate across buckets. $$\n",
    "K = \\sqrt{\\sum_b(K^b)^2+\\sum_{b, c}\\gamma_{bc}g_{bc}S^bS^c} + K_{residual}\n",
    "$$"
   ]
  },
  {
   "cell_type": "markdown",
   "metadata": {
    "slideshow": {
     "slide_type": "slide"
    }
   },
   "source": [
    "### Vega Margin for Other Risk Classes\n",
    "\n",
    "* Netting vega sensitivities across instruments, and weight by vega risk weights:$$\n",
    "VR_k = vrw^b_k\\biggl(\\sum_{i}vr^b_{ik}\\biggr)VCR_k\n",
    "$$\n",
    "where $VCR_k$ is the vega concentration risk $$\n",
    "VCR_k = \\max\\biggl(1, \\sqrt{\\frac{\\bigg|\\sum_{i}vr^b_{ik}\\bigg|}{VT_b}}\\biggr)\n",
    "$$\n",
    "with the threshold $VT_b$ for Equity, FX and Commodity. "
   ]
  },
  {
   "cell_type": "markdown",
   "metadata": {
    "slideshow": {
     "slide_type": "subslide"
    }
   },
   "source": [
    "For Credit, $VCR_k$ is given by$$\n",
    "VCR_k = \\max\\biggl(1, \\sqrt{\\frac{\\bigg|\\sum_{ij}vr^b_{ij}\\bigg|}{VT_b}}\\biggr)\n",
    "$$\n",
    "where $j$ is taken over all tenors of the same issuer/seniority curve as the risk factor $k$."
   ]
  },
  {
   "cell_type": "markdown",
   "metadata": {
    "slideshow": {
     "slide_type": "subslide"
    }
   },
   "source": [
    "* We now aggregate in an intra-bucket manner as follows:$$\n",
    "K^b = \\sqrt{VR\\cdot\\Sigma\\cdot VR^T}\n",
    "$$\n",
    "where $\\Sigma$ is the intra-bucket correlation matrix given by $(\\rho_{kl}\\cdot f_{kl})$. Here $f_{kl}$ is defined by$$\n",
    "f_{kl} = \\frac{\\min(VCR_k, VCR_l)}{\\max(VCR_k, VCR_l)}\n",
    "$$"
   ]
  },
  {
   "cell_type": "markdown",
   "metadata": {
    "slideshow": {
     "slide_type": "subslide"
    }
   },
   "source": [
    "* Now aggregate across buckets. $$\n",
    "K = \\sqrt{\\sum_b(K^b)^2+\\sum_{b, c}\\gamma_{bc}g_{bc}S^bS^c} + K_{residual}\n",
    "$$"
   ]
  },
  {
   "cell_type": "markdown",
   "metadata": {
    "slideshow": {
     "slide_type": "slide"
    }
   },
   "source": [
    "### Curvature Margin Calculation\n",
    "Curvature margin is calculated based on vega margin. \n",
    "* $$\n",
    "CVR^b_{ik} = SF(t_k)*vr^b_{ik}\n",
    "$$\n",
    "where $SF(t_k)$ is a function of $t_k$, which is a scaling factor of time to maturity corresponding to $t_k$. It only takes values on the standard tenor of 2W, 1M, ...,30Y."
   ]
  },
  {
   "cell_type": "markdown",
   "metadata": {
    "slideshow": {
     "slide_type": "subslide"
    }
   },
   "source": [
    "* We then net $CVR^b_{ik}$ across instrument $i$ by$$\n",
    "CVR^b_k = \\sum_iCVR^b_{ik}\n",
    "$$\n",
    "\n",
    "* Now aggregate intra-bucket by$$\n",
    "K^b = \\sqrt{CVR^b_k\\rho^2_{kl}CVR^b_l}\n",
    "$$"
   ]
  },
  {
   "cell_type": "markdown",
   "metadata": {
    "slideshow": {
     "slide_type": "subslide"
    }
   },
   "source": [
    "* Now aggregate across bucket by$$\n",
    "CM_{non-res} = \\max\\biggl(\\sum_{b,k} CVR^b_k+\\lambda\\sqrt{\\sum_b(K^b)^2+\\sum_{b,c}\\gamma^2_{bc}S_bS_c}, 0\\biggr)\n",
    "$$\n",
    "where$$\n",
    "\\lambda = (\\Phi^{-1}(99.5\\%)^2-1)(1+\\theta)-\\theta\n",
    "$$\n",
    "and$$\n",
    "\\theta = \\min\\biggl(\\frac{\\sum_{b,k}CVR^b_k}{\\sum_{b,k}|CVR^b_k|}, 0\\biggr)\n",
    "$$\n",
    "$\\gamma_{bc}$ and $S^b$ are defined as above."
   ]
  },
  {
   "cell_type": "markdown",
   "metadata": {
    "slideshow": {
     "slide_type": "subslide"
    }
   },
   "source": [
    "We do the same calculation for the residual bucket as well, except that we do not need to aggregate across bucket in this case(single bucket).\n",
    "\n",
    "* Curvature margin is finally equal to$$\n",
    "CM = CM_{non-res}+CM_{residual}\n",
    "$$"
   ]
  },
  {
   "cell_type": "markdown",
   "metadata": {
    "slideshow": {
     "slide_type": "slide"
    }
   },
   "source": [
    "### Base Correlation Risk\n",
    "\n",
    "Applied to the Credit (Qualifying) risk class.\n",
    "\n",
    "The Base Correlation risk factor $k$ is the index family such as CDX IG.\n",
    "\n",
    "1. $$\n",
    "WS_k = rw_k\\cdot s_k\n",
    "$$\n",
    "\n",
    "2. Base Correlation Margin is calculated via$$\n",
    "BCM = \\sqrt{WS_k\\rho_{kl}WS_l}\n",
    "$$"
   ]
  },
  {
   "cell_type": "markdown",
   "metadata": {
    "nbpresent": {
     "id": "36cab4e5-ad91-4308-9cb6-b6a5fc775d0a"
    },
    "slideshow": {
     "slide_type": "slide"
    }
   },
   "source": [
    "### Example: Manually Calculate IM of a Simple Hypothetical Trade"
   ]
  },
  {
   "cell_type": "code",
   "execution_count": null,
   "metadata": {
    "collapsed": true,
    "nbpresent": {
     "id": "2f39b35e-605c-4c87-8ccc-92ddf9d3156d"
    },
    "slideshow": {
     "slide_type": "skip"
    }
   },
   "outputs": [],
   "source": []
  },
  {
   "cell_type": "markdown",
   "metadata": {
    "nbpresent": {
     "id": "234a45ff-7a0c-43d4-9cc5-8c847eb7d431"
    },
    "slideshow": {
     "slide_type": "slide"
    }
   },
   "source": [
    "## Input of Athena SIMM Calculator"
   ]
  },
  {
   "cell_type": "markdown",
   "metadata": {
    "nbpresent": {
     "id": "7a30c47a-30c9-4d10-82d9-e2a9287de286"
    },
    "slideshow": {
     "slide_type": "subslide"
    }
   },
   "source": [
    "### How to access SIMM production run inputs\n",
    "\n",
    "* Please follow the [instructions](https://confluence.uk.jpmorgan.com/confluence/display/RTDR/NCIM+Reports) on Accessing NCIM reports on the Gauss Download Console, which provides production calculator results and calculator input for each day.\n",
    "\n",
    "* Choose **NCIM Calculator Inputs (gz)**.\n",
    "\n",
    "* Download, extract and save the calculator input to a local path (As an example here I downloaded the calculator inout on 05/31/2017). "
   ]
  },
  {
   "cell_type": "code",
   "execution_count": 4,
   "metadata": {
    "collapsed": true,
    "nbpresent": {
     "id": "67c255bb-d399-447b-b459-8714279525b3"
    },
    "slideshow": {
     "slide_type": "subslide"
    }
   },
   "outputs": [],
   "source": [
    "input_path = r'C:\\NonClearedIMSensPrep\\Backtesting1d10d\\AllInputs\\Gauss_NCIM_Calculator_Inputs_Run5_171522819184_20170531\\171522819184\\calculator_inputs'"
   ]
  },
  {
   "cell_type": "markdown",
   "metadata": {
    "nbpresent": {
     "id": "d4530f2a-5af4-4e64-ab5a-32aa6301047c"
    },
    "slideshow": {
     "slide_type": "subslide"
    }
   },
   "source": [
    "### Looking into the Inputs\n",
    "\n",
    "Three sub-directories: `\\model`, `\\sens` and `\\trade`:\n",
    "* `\\model` contains SIMM model parameters;\n",
    "* `\\sens` contains sensitivities that are put seperately for 6 different risk classes: Interest Rate, Credit (Qualifying and Non-Qualifying), Commodity, Equity and FX; as well as risk factor data.\n",
    "* `\\trade` contains trade data file `\\trade\\trade_data.csv`."
   ]
  },
  {
   "cell_type": "markdown",
   "metadata": {
    "nbpresent": {
     "id": "b0353ae9-4aa7-4d38-ad11-efa3ae5967e2"
    },
    "slideshow": {
     "slide_type": "slide"
    }
   },
   "source": [
    "### How do we build up the SIMM model via the input folder?\n",
    "\n",
    "Let's compare with our Delta margin model for IR risk class."
   ]
  },
  {
   "cell_type": "markdown",
   "metadata": {
    "nbpresent": {
     "id": "ec3b1acc-dfcb-4ca0-a322-a2873c4214dc"
    },
    "slideshow": {
     "slide_type": "subslide"
    }
   },
   "source": [
    "|Parameters used in Delta Margin for IR | Implemented|\n",
    "|--------------- | -----------|\n",
    "| Risk factor | `\\sens\\risk_factor_data_GIRR.csv` |\n",
    "| Classification of low/regular/high vol currency | `\\model\\model_params_GIRR.csv` |\n",
    "| Risk weight    | `\\model\\bucket_weight_GIRR.csv` |\n",
    "| Risk concentration threshold | `\\model\\model_params_GIRR.csv` |\n",
    "| Intra-bucket correlation | `\\model\\intra_bucket_correlation_GIRR.csv` |\n",
    "| Yield curve correlation | `\\model\\model_params_GIRR.csv` |\n",
    "| Cross bucket correlation | `\\model\\bucket_correlation_GIRR.csv` |\n",
    "\n",
    "| Other information | Implemented |\n",
    "| ----------------- | ----------- |\n",
    "| FX rate | `\\sens\\fx_rate.csv` |\n",
    "| CSA currency correspondence | `\\sens\\csa_currency.csv` |"
   ]
  },
  {
   "cell_type": "markdown",
   "metadata": {
    "slideshow": {
     "slide_type": "slide"
    }
   },
   "source": [
    "### Let's Take a Look at the Trade file"
   ]
  },
  {
   "cell_type": "code",
   "execution_count": 5,
   "metadata": {
    "nbpresent": {
     "id": "872a6edd-d3ae-47bb-9a5f-33113d6d83a7"
    },
    "slideshow": {
     "slide_type": "subslide"
    }
   },
   "outputs": [
    {
     "name": "stdout",
     "output_type": "stream",
     "text": [
      "       trade_id                   netting_grp_id collateral_contract_id  \\\n",
      "0  303702592190  1478272006987275000000867689000         10000000088617   \n",
      "1  303702592190  1478272006987275000000867689000         10000000088617   \n",
      "2  303702592208   384950006987275000315034264000         10000000101574   \n",
      "3  303702592208   384950006987275000315034264000         10000000101574   \n",
      "4  303702592209   384950006987275000315034264000         10000000101574   \n",
      "\n",
      "      notional    asset_class product_class         mtm trade_maturity_date  \\\n",
      "0   14931000.0  Interest Rate       RatesFX   116691.67          2017-08-24   \n",
      "1   14931000.0  Interest Rate       RatesFX   116691.67          2017-08-24   \n",
      "2  373275000.0  Interest Rate       RatesFX  -260707.03          2017-09-15   \n",
      "3  373275000.0  Interest Rate       RatesFX  -260707.03          2017-09-15   \n",
      "4  373275000.0  Interest Rate       RatesFX  -457758.03          2017-09-15   \n",
      "\n",
      "  counterpartyOID transaction_id  ncmr_trade_id source_feed_name im_csa_id  \\\n",
      "0       221851824  1900008107541  1900008107541     KAP_TKF_0601  D3824506   \n",
      "1       221851824  1900008107541  1900008107541     KAP_TKF_0601  D3824506   \n",
      "2           46522  1900008108056  1900008108056     KAP_TKF_0601  D3899966   \n",
      "3           46522  1900008108056  1900008108056     KAP_TKF_0601  D3899966   \n",
      "4           46522  1900008108057  1900008108057     KAP_TKF_0601  D3899966   \n",
      "\n",
      "  isda_asset_class isda_base_product isda_sub_product isda_txn_type  \\\n",
      "0    Interest Rate            Option         Swaption           NaN   \n",
      "1    Interest Rate            Option         Swaption           NaN   \n",
      "2    Interest Rate            Option         Swaption           NaN   \n",
      "3    Interest Rate            Option         Swaption           NaN   \n",
      "4    Interest Rate            Option         Swaption           NaN   \n",
      "\n",
      "  margin_regimes source_pao_product_type pao_product_type_key im_ccy pay_ccy  \\\n",
      "0          US-PR  'IR European Swaption'               'D394'    USD     AUD   \n",
      "1          US-PR  'IR European Swaption'               'D394'    USD     AUD   \n",
      "2          US-PR  'IR European Swaption'               'D394'    USD     AUD   \n",
      "3          US-PR  'IR European Swaption'               'D394'    USD     AUD   \n",
      "4          US-PR  'IR European Swaption'               'D394'    USD     AUD   \n",
      "\n",
      "  receive_ccy exclude forced_grid comment im_method notional_addon_applicable  \\\n",
      "0         AUD   False       False     NaN      simm                     False   \n",
      "1         AUD   False       False     NaN      simm                     False   \n",
      "2         AUD   False       False     NaN      simm                     False   \n",
      "3         AUD   False       False     NaN      simm                     False   \n",
      "4         AUD   False       False     NaN      simm                     False   \n",
      "\n",
      "  notional_addon regime im_direction no_risk fx_rate notional_usd     mtm_usd  \n",
      "0            1.0  US-PR         self   False     1.0   14931000.0   116691.67  \n",
      "1            1.0  US-PR   reciprocal   False     1.0   14931000.0   116691.67  \n",
      "2            1.0  US-PR   reciprocal   False     1.0  373275000.0  -260707.03  \n",
      "3            1.0  US-PR         self   False     1.0  373275000.0  -260707.03  \n",
      "4            1.0  US-PR         self   False     1.0  373275000.0  -457758.03  \n"
     ]
    }
   ],
   "source": [
    "pd.set_option('display.max_columns', 50)\n",
    "trade_file_path = r'\\trade\\trade_data.csv'\n",
    "def read_trade_data(path):\n",
    "    return pd.read_csv(path, dtype = str,low_memory=False) \n",
    "trade_data = read_trade_data(input_path + trade_file_path)\n",
    "print trade_data.head()"
   ]
  },
  {
   "cell_type": "markdown",
   "metadata": {
    "slideshow": {
     "slide_type": "slide"
    }
   },
   "source": [
    "### Filter the Trade File per Needs"
   ]
  },
  {
   "cell_type": "markdown",
   "metadata": {
    "nbpresent": {
     "id": "7eb3e2d0-95ca-4937-9b22-4379d8ac98f1"
    },
    "slideshow": {
     "slide_type": "subslide"
    }
   },
   "source": [
    "The trade data can always be filtered per needs. For example, below we filter for only for CSA."
   ]
  },
  {
   "cell_type": "code",
   "execution_count": 7,
   "metadata": {
    "nbpresent": {
     "id": "c7fdfa9a-e4aa-4b3c-b770-afc0569ac3b0"
    },
    "slideshow": {
     "slide_type": "subslide"
    }
   },
   "outputs": [
    {
     "name": "stdout",
     "output_type": "stream",
     "text": [
      "         trade_id                   netting_grp_id collateral_contract_id  \\\n",
      "0    303702592190  1478272006987275000000867689000         10000000088617   \n",
      "1    303702592190  1478272006987275000000867689000         10000000088617   \n",
      "54   303702592254  1478272006987275000000867689000         10000000088617   \n",
      "55   303702592254  1478272006987275000000867689000         10000000088617   \n",
      "202  303702593325  1478272006987275000000867689000         10000000088617   \n",
      "203  303702593325  1478272006987275000000867689000         10000000088617   \n",
      "236  303702593371  1478272006987275000000867689000         10000000088617   \n",
      "237  303702593371  1478272006987275000000867689000         10000000088617   \n",
      "322  303702594337  1478272006987275000000867689000         10000000088617   \n",
      "323  303702594337  1478272006987275000000867689000         10000000088617   \n",
      "\n",
      "        notional    asset_class product_class        mtm trade_maturity_date  \\\n",
      "0     14931000.0  Interest Rate       RatesFX  116691.67          2017-08-24   \n",
      "1     14931000.0  Interest Rate       RatesFX  116691.67          2017-08-24   \n",
      "54    74655000.0  Interest Rate       RatesFX  -55291.71          2017-11-09   \n",
      "55    74655000.0  Interest Rate       RatesFX  -55291.71          2017-11-09   \n",
      "202   37327500.0  Interest Rate       RatesFX  -47139.22          2018-03-26   \n",
      "203   37327500.0  Interest Rate       RatesFX  -47139.22          2018-03-26   \n",
      "236   37327500.0  Interest Rate       RatesFX  -397846.7          2022-04-01   \n",
      "237   37327500.0  Interest Rate       RatesFX  -397846.7          2022-04-01   \n",
      "322  373275000.0  Interest Rate       RatesFX   -6170.68          2018-12-03   \n",
      "323  373275000.0  Interest Rate       RatesFX   -6170.68          2018-12-03   \n",
      "\n",
      "    counterpartyOID transaction_id  ncmr_trade_id source_feed_name im_csa_id  \\\n",
      "0         221851824  1900008107541  1900008107541     KAP_TKF_0601  D3824506   \n",
      "1         221851824  1900008107541  1900008107541     KAP_TKF_0601  D3824506   \n",
      "54        221851824  1900008109172  1900008109172     KAP_TKF_0601  D3824506   \n",
      "55        221851824  1900008109172  1900008109172     KAP_TKF_0601  D3824506   \n",
      "202       221851824  1900008114630  1900008114630     KAP_TKF_0601  D3824506   \n",
      "203       221851824  1900008114630  1900008114630     KAP_TKF_0601  D3824506   \n",
      "236       221851824  1900008114772  1900008114772     KAP_TKF_0601  D3824506   \n",
      "237       221851824  1900008114772  1900008114772     KAP_TKF_0601  D3824506   \n",
      "322       221851824  1900008115659  1900008115659     KAP_TKF_0601  D3824506   \n",
      "323       221851824  1900008115659  1900008115659     KAP_TKF_0601  D3824506   \n",
      "\n",
      "    isda_asset_class isda_base_product isda_sub_product isda_txn_type  \\\n",
      "0      Interest Rate            Option         Swaption           NaN   \n",
      "1      Interest Rate            Option         Swaption           NaN   \n",
      "54     Interest Rate            Option         Swaption           NaN   \n",
      "55     Interest Rate            Option         Swaption           NaN   \n",
      "202    Interest Rate            Option         Swaption           NaN   \n",
      "203    Interest Rate            Option         Swaption           NaN   \n",
      "236    Interest Rate            Option         Swaption           NaN   \n",
      "237    Interest Rate            Option         Swaption           NaN   \n",
      "322    Interest Rate            Option         Swaption           NaN   \n",
      "323    Interest Rate            Option         Swaption           NaN   \n",
      "\n",
      "    margin_regimes source_pao_product_type pao_product_type_key im_ccy  \\\n",
      "0            US-PR  'IR European Swaption'               'D394'    USD   \n",
      "1            US-PR  'IR European Swaption'               'D394'    USD   \n",
      "54           US-PR  'IR European Swaption'               'D394'    USD   \n",
      "55           US-PR  'IR European Swaption'               'D394'    USD   \n",
      "202          US-PR  'IR European Swaption'               'D394'    USD   \n",
      "203          US-PR  'IR European Swaption'               'D394'    USD   \n",
      "236          US-PR  'IR European Swaption'               'D394'    USD   \n",
      "237          US-PR  'IR European Swaption'               'D394'    USD   \n",
      "322          US-PR  'IR European Swaption'               'D394'    USD   \n",
      "323          US-PR  'IR European Swaption'               'D394'    USD   \n",
      "\n",
      "    pay_ccy receive_ccy exclude forced_grid comment im_method  \\\n",
      "0       AUD         AUD   False       False     NaN      simm   \n",
      "1       AUD         AUD   False       False     NaN      simm   \n",
      "54      AUD         AUD   False       False     NaN      simm   \n",
      "55      AUD         AUD   False       False     NaN      simm   \n",
      "202     AUD         AUD   False       False     NaN      simm   \n",
      "203     AUD         AUD   False       False     NaN      simm   \n",
      "236     AUD         AUD   False       False     NaN      simm   \n",
      "237     AUD         AUD   False       False     NaN      simm   \n",
      "322     AUD         AUD   False       False     NaN      simm   \n",
      "323     AUD         AUD   False       False     NaN      simm   \n",
      "\n",
      "    notional_addon_applicable notional_addon regime im_direction no_risk  \\\n",
      "0                       False            1.0  US-PR         self   False   \n",
      "1                       False            1.0  US-PR   reciprocal   False   \n",
      "54                      False            1.0  US-PR   reciprocal   False   \n",
      "55                      False            1.0  US-PR         self   False   \n",
      "202                     False            1.0  US-PR   reciprocal   False   \n",
      "203                     False            1.0  US-PR         self   False   \n",
      "236                     False            1.0  US-PR         self   False   \n",
      "237                     False            1.0  US-PR   reciprocal   False   \n",
      "322                     False            1.0  US-PR         self   False   \n",
      "323                     False            1.0  US-PR   reciprocal   False   \n",
      "\n",
      "    fx_rate notional_usd    mtm_usd  \n",
      "0       1.0   14931000.0  116691.67  \n",
      "1       1.0   14931000.0  116691.67  \n",
      "54      1.0   74655000.0  -55291.71  \n",
      "55      1.0   74655000.0  -55291.71  \n",
      "202     1.0   37327500.0  -47139.22  \n",
      "203     1.0   37327500.0  -47139.22  \n",
      "236     1.0   37327500.0  -397846.7  \n",
      "237     1.0   37327500.0  -397846.7  \n",
      "322     1.0  373275000.0   -6170.68  \n",
      "323     1.0  373275000.0   -6170.68  \n"
     ]
    }
   ],
   "source": [
    "trade_data_sample = trade_data[trade_data.collateral_contract_id.isin(['10000000088617'])]\n",
    "print trade_data_sample.head(10)"
   ]
  },
  {
   "cell_type": "markdown",
   "metadata": {
    "slideshow": {
     "slide_type": "slide"
    }
   },
   "source": [
    "## Parameters"
   ]
  },
  {
   "cell_type": "code",
   "execution_count": 5,
   "metadata": {
    "collapsed": true,
    "slideshow": {
     "slide_type": "subslide"
    }
   },
   "outputs": [],
   "source": [
    "#Parameters for filtering trade files\n",
    "regime_type = 'US-PR' #im regime type in trade population\n",
    "im_direction = 'self' #im direction in trade population\n",
    "run_single_csa = None #'10000000088617'"
   ]
  },
  {
   "cell_type": "code",
   "execution_count": 6,
   "metadata": {
    "collapsed": true,
    "slideshow": {
     "slide_type": "subslide"
    }
   },
   "outputs": [],
   "source": [
    "#Parameters that for customized usage\n",
    "sens_folder = 'sens' \n",
    "model_folder = 'model'\n",
    "TradeFileName = \"trade_data_sample.csv\" #\"trade_data*.csv\" for multiple runs\n",
    "result_name_addon = ''\n",
    "\n",
    "#SIMM internel Params\n",
    "calculate_trade_level_marginal_im = False\n",
    "return_standalone_in_marginal_im = True\n",
    "im_calculation_direction = 'both_im' #both_im'/'reciprocal_im_only'/'self_im_only'\n",
    "RunBaseline = False"
   ]
  },
  {
   "cell_type": "markdown",
   "metadata": {
    "slideshow": {
     "slide_type": "slide"
    }
   },
   "source": [
    "## Run Calculator"
   ]
  },
  {
   "cell_type": "code",
   "execution_count": 7,
   "metadata": {
    "collapsed": true,
    "slideshow": {
     "slide_type": "subslide"
    }
   },
   "outputs": [],
   "source": [
    "sc.main(data_path = input_path\n",
    "         ,calculate_trade_level_marginal_im = calculate_trade_level_marginal_im\n",
    "         ,return_standalone_in_marginal_im = return_standalone_in_marginal_im\n",
    "         ,im_calculation_direction = im_calculation_direction\n",
    "         ,RunBaseline = RunBaseline\n",
    "         ,regime_type = regime_type\n",
    "         ,im_direction = im_direction\n",
    "         ,sens_folder = sens_folder\n",
    "         ,model_folder = model_folder\n",
    "         ,TradeFileName = TradeFileName\n",
    "         ,result_name_addon = result_name_addon\n",
    "         ,run_single_csa = run_single_csa\n",
    "         )"
   ]
  },
  {
   "cell_type": "markdown",
   "metadata": {
    "slideshow": {
     "slide_type": "slide"
    }
   },
   "source": [
    "## Result"
   ]
  },
  {
   "cell_type": "markdown",
   "metadata": {
    "slideshow": {
     "slide_type": "subslide"
    }
   },
   "source": [
    "The result can be checked in the result folder `\\result`."
   ]
  },
  {
   "cell_type": "code",
   "execution_count": 12,
   "metadata": {
    "collapsed": true,
    "slideshow": {
     "slide_type": "subslide"
    }
   },
   "outputs": [
    {
     "data": {
      "text/html": [
       "<div>\n",
       "<table border=\"1\" class=\"dataframe\">\n",
       "  <thead>\n",
       "    <tr style=\"text-align: right;\">\n",
       "      <th></th>\n",
       "      <th>im_id</th>\n",
       "      <th>margin_type</th>\n",
       "      <th>im_value</th>\n",
       "      <th>asset_class</th>\n",
       "      <th>is_reciprocal</th>\n",
       "      <th>scenario_name</th>\n",
       "    </tr>\n",
       "  </thead>\n",
       "  <tbody>\n",
       "    <tr>\n",
       "      <th>0</th>\n",
       "      <td>10000000065581</td>\n",
       "      <td>self</td>\n",
       "      <td>272931.746896</td>\n",
       "      <td>_Backtesting</td>\n",
       "      <td>NaN</td>\n",
       "      <td>NaN</td>\n",
       "    </tr>\n",
       "    <tr>\n",
       "      <th>1</th>\n",
       "      <td>10000000065581</td>\n",
       "      <td>reciprocal</td>\n",
       "      <td>272931.746896</td>\n",
       "      <td>_Backtesting</td>\n",
       "      <td>NaN</td>\n",
       "      <td>NaN</td>\n",
       "    </tr>\n",
       "  </tbody>\n",
       "</table>\n",
       "</div>"
      ],
      "text/plain": [
       "            im_id margin_type       im_value   asset_class  is_reciprocal  \\\n",
       "0  10000000065581        self  272931.746896  _Backtesting            NaN   \n",
       "1  10000000065581  reciprocal  272931.746896  _Backtesting            NaN   \n",
       "\n",
       "   scenario_name  \n",
       "0            NaN  \n",
       "1            NaN  "
      ]
     },
     "execution_count": 12,
     "metadata": {},
     "output_type": "execute_result"
    }
   ],
   "source": [
    "result = pd.read_csv(input_path+r'\\result\\csa_im_results.csv',dtype = {\"im_id\":str})\n",
    "result_detail = pd.read_csv(input_path+r'\\result\\csa_im_asset_level.csv',dtype = {\"im_id\":str})\n",
    "result"
   ]
  },
  {
   "cell_type": "code",
   "execution_count": 11,
   "metadata": {
    "slideshow": {
     "slide_type": "subslide"
    }
   },
   "outputs": [
    {
     "data": {
      "text/html": [
       "<div>\n",
       "<table border=\"1\" class=\"dataframe\">\n",
       "  <thead>\n",
       "    <tr style=\"text-align: right;\">\n",
       "      <th></th>\n",
       "      <th>Unnamed: 0</th>\n",
       "      <th>Unnamed: 1</th>\n",
       "      <th>self</th>\n",
       "      <th>self_usd</th>\n",
       "      <th>im_ccy</th>\n",
       "      <th>reciprocal</th>\n",
       "      <th>reciprocal_usd</th>\n",
       "      <th>Asset</th>\n",
       "      <th>Level</th>\n",
       "      <th>scenario_name</th>\n",
       "    </tr>\n",
       "  </thead>\n",
       "  <tbody>\n",
       "    <tr>\n",
       "      <th>0</th>\n",
       "      <td>10000000102298</td>\n",
       "      <td>RatesFX</td>\n",
       "      <td>1.541508e+07</td>\n",
       "      <td>1.541508e+07</td>\n",
       "      <td>USD</td>\n",
       "      <td>1.541508e+07</td>\n",
       "      <td>1.541508e+07</td>\n",
       "      <td>GIRR</td>\n",
       "      <td>Delta</td>\n",
       "      <td>_Backtesting</td>\n",
       "    </tr>\n",
       "    <tr>\n",
       "      <th>1</th>\n",
       "      <td>10000000101587</td>\n",
       "      <td>RatesFX</td>\n",
       "      <td>3.456492e+06</td>\n",
       "      <td>3.456492e+06</td>\n",
       "      <td>USD</td>\n",
       "      <td>3.456492e+06</td>\n",
       "      <td>3.456492e+06</td>\n",
       "      <td>GIRR</td>\n",
       "      <td>Delta</td>\n",
       "      <td>_Backtesting</td>\n",
       "    </tr>\n",
       "    <tr>\n",
       "      <th>2</th>\n",
       "      <td>10000000101574</td>\n",
       "      <td>RatesFX</td>\n",
       "      <td>2.529004e+07</td>\n",
       "      <td>2.529004e+07</td>\n",
       "      <td>USD</td>\n",
       "      <td>2.529004e+07</td>\n",
       "      <td>2.529004e+07</td>\n",
       "      <td>GIRR</td>\n",
       "      <td>Delta</td>\n",
       "      <td>_Backtesting</td>\n",
       "    </tr>\n",
       "    <tr>\n",
       "      <th>3</th>\n",
       "      <td>10000000065911</td>\n",
       "      <td>RatesFX</td>\n",
       "      <td>9.867923e+07</td>\n",
       "      <td>9.867923e+07</td>\n",
       "      <td>USD</td>\n",
       "      <td>9.867923e+07</td>\n",
       "      <td>9.867923e+07</td>\n",
       "      <td>GIRR</td>\n",
       "      <td>Delta</td>\n",
       "      <td>_Backtesting</td>\n",
       "    </tr>\n",
       "    <tr>\n",
       "      <th>4</th>\n",
       "      <td>10000000099816</td>\n",
       "      <td>RatesFX</td>\n",
       "      <td>1.831697e+06</td>\n",
       "      <td>2.364720e+06</td>\n",
       "      <td>GBP</td>\n",
       "      <td>1.831697e+06</td>\n",
       "      <td>2.364720e+06</td>\n",
       "      <td>GIRR</td>\n",
       "      <td>Delta</td>\n",
       "      <td>_Backtesting</td>\n",
       "    </tr>\n",
       "    <tr>\n",
       "      <th>5</th>\n",
       "      <td>10000000103002</td>\n",
       "      <td>RatesFX</td>\n",
       "      <td>1.467418e+07</td>\n",
       "      <td>1.894436e+07</td>\n",
       "      <td>GBP</td>\n",
       "      <td>1.467418e+07</td>\n",
       "      <td>1.894436e+07</td>\n",
       "      <td>GIRR</td>\n",
       "      <td>Delta</td>\n",
       "      <td>_Backtesting</td>\n",
       "    </tr>\n",
       "    <tr>\n",
       "      <th>6</th>\n",
       "      <td>10000000102821</td>\n",
       "      <td>RatesFX</td>\n",
       "      <td>1.477319e+07</td>\n",
       "      <td>1.477319e+07</td>\n",
       "      <td>USD</td>\n",
       "      <td>1.477319e+07</td>\n",
       "      <td>1.477319e+07</td>\n",
       "      <td>GIRR</td>\n",
       "      <td>Delta</td>\n",
       "      <td>_Backtesting</td>\n",
       "    </tr>\n",
       "    <tr>\n",
       "      <th>7</th>\n",
       "      <td>10000000065581</td>\n",
       "      <td>RatesFX</td>\n",
       "      <td>1.076990e+08</td>\n",
       "      <td>1.076990e+08</td>\n",
       "      <td>USD</td>\n",
       "      <td>1.076990e+08</td>\n",
       "      <td>1.076990e+08</td>\n",
       "      <td>GIRR</td>\n",
       "      <td>Delta</td>\n",
       "      <td>_Backtesting</td>\n",
       "    </tr>\n",
       "    <tr>\n",
       "      <th>8</th>\n",
       "      <td>10000000097706</td>\n",
       "      <td>RatesFX</td>\n",
       "      <td>1.418649e+07</td>\n",
       "      <td>1.418649e+07</td>\n",
       "      <td>USD</td>\n",
       "      <td>1.418649e+07</td>\n",
       "      <td>1.418649e+07</td>\n",
       "      <td>GIRR</td>\n",
       "      <td>Delta</td>\n",
       "      <td>_Backtesting</td>\n",
       "    </tr>\n",
       "    <tr>\n",
       "      <th>9</th>\n",
       "      <td>10000000102298</td>\n",
       "      <td>RatesFX</td>\n",
       "      <td>1.565554e+05</td>\n",
       "      <td>1.565554e+05</td>\n",
       "      <td>USD</td>\n",
       "      <td>1.565554e+05</td>\n",
       "      <td>1.565554e+05</td>\n",
       "      <td>FX</td>\n",
       "      <td>Delta</td>\n",
       "      <td>_Backtesting</td>\n",
       "    </tr>\n",
       "    <tr>\n",
       "      <th>10</th>\n",
       "      <td>10000000101587</td>\n",
       "      <td>RatesFX</td>\n",
       "      <td>1.825754e+05</td>\n",
       "      <td>1.825754e+05</td>\n",
       "      <td>USD</td>\n",
       "      <td>1.825754e+05</td>\n",
       "      <td>1.825754e+05</td>\n",
       "      <td>FX</td>\n",
       "      <td>Delta</td>\n",
       "      <td>_Backtesting</td>\n",
       "    </tr>\n",
       "    <tr>\n",
       "      <th>11</th>\n",
       "      <td>10000000101574</td>\n",
       "      <td>RatesFX</td>\n",
       "      <td>3.161720e+05</td>\n",
       "      <td>3.161720e+05</td>\n",
       "      <td>USD</td>\n",
       "      <td>3.161720e+05</td>\n",
       "      <td>3.161720e+05</td>\n",
       "      <td>FX</td>\n",
       "      <td>Delta</td>\n",
       "      <td>_Backtesting</td>\n",
       "    </tr>\n",
       "    <tr>\n",
       "      <th>12</th>\n",
       "      <td>10000000065911</td>\n",
       "      <td>RatesFX</td>\n",
       "      <td>3.008400e+06</td>\n",
       "      <td>3.008400e+06</td>\n",
       "      <td>USD</td>\n",
       "      <td>3.008400e+06</td>\n",
       "      <td>3.008400e+06</td>\n",
       "      <td>FX</td>\n",
       "      <td>Delta</td>\n",
       "      <td>_Backtesting</td>\n",
       "    </tr>\n",
       "    <tr>\n",
       "      <th>13</th>\n",
       "      <td>10000000099816</td>\n",
       "      <td>RatesFX</td>\n",
       "      <td>3.108316e+05</td>\n",
       "      <td>4.012836e+05</td>\n",
       "      <td>GBP</td>\n",
       "      <td>3.108316e+05</td>\n",
       "      <td>4.012836e+05</td>\n",
       "      <td>FX</td>\n",
       "      <td>Delta</td>\n",
       "      <td>_Backtesting</td>\n",
       "    </tr>\n",
       "    <tr>\n",
       "      <th>14</th>\n",
       "      <td>10000000103002</td>\n",
       "      <td>RatesFX</td>\n",
       "      <td>3.149009e+06</td>\n",
       "      <td>4.065370e+06</td>\n",
       "      <td>GBP</td>\n",
       "      <td>3.149009e+06</td>\n",
       "      <td>4.065370e+06</td>\n",
       "      <td>FX</td>\n",
       "      <td>Delta</td>\n",
       "      <td>_Backtesting</td>\n",
       "    </tr>\n",
       "    <tr>\n",
       "      <th>15</th>\n",
       "      <td>10000000102821</td>\n",
       "      <td>RatesFX</td>\n",
       "      <td>2.841926e+05</td>\n",
       "      <td>2.841926e+05</td>\n",
       "      <td>USD</td>\n",
       "      <td>2.841926e+05</td>\n",
       "      <td>2.841926e+05</td>\n",
       "      <td>FX</td>\n",
       "      <td>Delta</td>\n",
       "      <td>_Backtesting</td>\n",
       "    </tr>\n",
       "    <tr>\n",
       "      <th>16</th>\n",
       "      <td>10000000065581</td>\n",
       "      <td>RatesFX</td>\n",
       "      <td>3.366754e+06</td>\n",
       "      <td>3.366754e+06</td>\n",
       "      <td>USD</td>\n",
       "      <td>3.366754e+06</td>\n",
       "      <td>3.366754e+06</td>\n",
       "      <td>FX</td>\n",
       "      <td>Delta</td>\n",
       "      <td>_Backtesting</td>\n",
       "    </tr>\n",
       "    <tr>\n",
       "      <th>17</th>\n",
       "      <td>10000000097706</td>\n",
       "      <td>RatesFX</td>\n",
       "      <td>1.250036e+06</td>\n",
       "      <td>1.250036e+06</td>\n",
       "      <td>USD</td>\n",
       "      <td>1.250036e+06</td>\n",
       "      <td>1.250036e+06</td>\n",
       "      <td>FX</td>\n",
       "      <td>Delta</td>\n",
       "      <td>_Backtesting</td>\n",
       "    </tr>\n",
       "  </tbody>\n",
       "</table>\n",
       "</div>"
      ],
      "text/plain": [
       "        Unnamed: 0 Unnamed: 1          self      self_usd im_ccy  \\\n",
       "0   10000000102298    RatesFX  1.541508e+07  1.541508e+07    USD   \n",
       "1   10000000101587    RatesFX  3.456492e+06  3.456492e+06    USD   \n",
       "2   10000000101574    RatesFX  2.529004e+07  2.529004e+07    USD   \n",
       "3   10000000065911    RatesFX  9.867923e+07  9.867923e+07    USD   \n",
       "4   10000000099816    RatesFX  1.831697e+06  2.364720e+06    GBP   \n",
       "5   10000000103002    RatesFX  1.467418e+07  1.894436e+07    GBP   \n",
       "6   10000000102821    RatesFX  1.477319e+07  1.477319e+07    USD   \n",
       "7   10000000065581    RatesFX  1.076990e+08  1.076990e+08    USD   \n",
       "8   10000000097706    RatesFX  1.418649e+07  1.418649e+07    USD   \n",
       "9   10000000102298    RatesFX  1.565554e+05  1.565554e+05    USD   \n",
       "10  10000000101587    RatesFX  1.825754e+05  1.825754e+05    USD   \n",
       "11  10000000101574    RatesFX  3.161720e+05  3.161720e+05    USD   \n",
       "12  10000000065911    RatesFX  3.008400e+06  3.008400e+06    USD   \n",
       "13  10000000099816    RatesFX  3.108316e+05  4.012836e+05    GBP   \n",
       "14  10000000103002    RatesFX  3.149009e+06  4.065370e+06    GBP   \n",
       "15  10000000102821    RatesFX  2.841926e+05  2.841926e+05    USD   \n",
       "16  10000000065581    RatesFX  3.366754e+06  3.366754e+06    USD   \n",
       "17  10000000097706    RatesFX  1.250036e+06  1.250036e+06    USD   \n",
       "\n",
       "      reciprocal  reciprocal_usd Asset  Level scenario_name  \n",
       "0   1.541508e+07    1.541508e+07  GIRR  Delta  _Backtesting  \n",
       "1   3.456492e+06    3.456492e+06  GIRR  Delta  _Backtesting  \n",
       "2   2.529004e+07    2.529004e+07  GIRR  Delta  _Backtesting  \n",
       "3   9.867923e+07    9.867923e+07  GIRR  Delta  _Backtesting  \n",
       "4   1.831697e+06    2.364720e+06  GIRR  Delta  _Backtesting  \n",
       "5   1.467418e+07    1.894436e+07  GIRR  Delta  _Backtesting  \n",
       "6   1.477319e+07    1.477319e+07  GIRR  Delta  _Backtesting  \n",
       "7   1.076990e+08    1.076990e+08  GIRR  Delta  _Backtesting  \n",
       "8   1.418649e+07    1.418649e+07  GIRR  Delta  _Backtesting  \n",
       "9   1.565554e+05    1.565554e+05    FX  Delta  _Backtesting  \n",
       "10  1.825754e+05    1.825754e+05    FX  Delta  _Backtesting  \n",
       "11  3.161720e+05    3.161720e+05    FX  Delta  _Backtesting  \n",
       "12  3.008400e+06    3.008400e+06    FX  Delta  _Backtesting  \n",
       "13  3.108316e+05    4.012836e+05    FX  Delta  _Backtesting  \n",
       "14  3.149009e+06    4.065370e+06    FX  Delta  _Backtesting  \n",
       "15  2.841926e+05    2.841926e+05    FX  Delta  _Backtesting  \n",
       "16  3.366754e+06    3.366754e+06    FX  Delta  _Backtesting  \n",
       "17  1.250036e+06    1.250036e+06    FX  Delta  _Backtesting  "
      ]
     },
     "execution_count": 11,
     "metadata": {},
     "output_type": "execute_result"
    }
   ],
   "source": [
    "result_detail"
   ]
  },
  {
   "cell_type": "markdown",
   "metadata": {
    "slideshow": {
     "slide_type": "slide"
    }
   },
   "source": [
    "## What can SIMM be used for?\n",
    "\n",
    "We currently use SIMM to do a lot of model development and backtesting stuff, such as\n",
    "* SIMM vs. CCP;\n",
    "* SIMM vs. PnL backtesting;\n",
    "* SIMM projection;\n",
    "* ..."
   ]
  },
  {
   "cell_type": "code",
   "execution_count": null,
   "metadata": {
    "collapsed": true
   },
   "outputs": [],
   "source": []
  }
 ],
 "metadata": {
  "anaconda-cloud": {},
  "celltoolbar": "Slideshow",
  "header": "# Id:          $Id: $\n# Copyright:   2017 J.P. Morgan Chase & Co. Incorporated.  All rights reserved.\n# Type:        lib\n# Group:       UnknownGroup\n# Description: Undocumented module created by xu.sun\n",
  "kernelspec": {
   "display_name": "Python 2",
   "language": "python",
   "name": "python2"
  },
  "language_info": {
   "codemirror_mode": {
    "name": "ipython",
    "version": 2
   },
   "file_extension": ".py",
   "mimetype": "text/x-python",
   "name": "python",
   "nbconvert_exporter": "python",
   "pygments_lexer": "ipython2",
   "version": "2.7.13"
  },
  "nbpresent": {
   "slides": {},
   "themes": {
    "default": "8fab07db-f2b3-423e-b16d-0808cbd589c7",
    "theme": {
     "8fab07db-f2b3-423e-b16d-0808cbd589c7": {
      "id": "8fab07db-f2b3-423e-b16d-0808cbd589c7",
      "palette": {
       "19cc588f-0593-49c9-9f4b-e4d7cc113b1c": {
        "id": "19cc588f-0593-49c9-9f4b-e4d7cc113b1c",
        "rgb": [
         252,
         252,
         252
        ]
       },
       "31af15d2-7e15-44c5-ab5e-e04b16a89eff": {
        "id": "31af15d2-7e15-44c5-ab5e-e04b16a89eff",
        "rgb": [
         68,
         68,
         68
        ]
       },
       "50f92c45-a630-455b-aec3-788680ec7410": {
        "id": "50f92c45-a630-455b-aec3-788680ec7410",
        "rgb": [
         155,
         177,
         192
        ]
       },
       "c5cc3653-2ee1-402a-aba2-7caae1da4f6c": {
        "id": "c5cc3653-2ee1-402a-aba2-7caae1da4f6c",
        "rgb": [
         43,
         126,
         184
        ]
       },
       "efa7f048-9acb-414c-8b04-a26811511a21": {
        "id": "efa7f048-9acb-414c-8b04-a26811511a21",
        "rgb": [
         25.118061674008803,
         73.60176211453744,
         107.4819383259912
        ]
       }
      },
      "rules": {
       "blockquote": {
        "color": "50f92c45-a630-455b-aec3-788680ec7410"
       },
       "code": {
        "font-family": "Anonymous Pro"
       },
       "h1": {
        "color": "c5cc3653-2ee1-402a-aba2-7caae1da4f6c",
        "font-family": "Lato",
        "font-size": 8
       },
       "h2": {
        "color": "c5cc3653-2ee1-402a-aba2-7caae1da4f6c",
        "font-family": "Lato",
        "font-size": 6
       },
       "h3": {
        "color": "50f92c45-a630-455b-aec3-788680ec7410",
        "font-family": "Lato",
        "font-size": 5.5
       },
       "h4": {
        "color": "c5cc3653-2ee1-402a-aba2-7caae1da4f6c",
        "font-family": "Lato",
        "font-size": 5
       },
       "h5": {
        "font-family": "Lato"
       },
       "h6": {
        "font-family": "Lato"
       },
       "h7": {
        "font-family": "Lato"
       },
       "pre": {
        "font-family": "Anonymous Pro",
        "font-size": 4
       }
      },
      "text-base": {
       "font-family": "Merriweather",
       "font-size": 4
      }
     },
     "c91063bb-67e9-4e1f-a0f4-ad57309dfc77": {
      "id": "c91063bb-67e9-4e1f-a0f4-ad57309dfc77",
      "palette": {
       "19cc588f-0593-49c9-9f4b-e4d7cc113b1c": {
        "id": "19cc588f-0593-49c9-9f4b-e4d7cc113b1c",
        "rgb": [
         252,
         252,
         252
        ]
       },
       "31af15d2-7e15-44c5-ab5e-e04b16a89eff": {
        "id": "31af15d2-7e15-44c5-ab5e-e04b16a89eff",
        "rgb": [
         68,
         68,
         68
        ]
       },
       "50f92c45-a630-455b-aec3-788680ec7410": {
        "id": "50f92c45-a630-455b-aec3-788680ec7410",
        "rgb": [
         155,
         177,
         192
        ]
       },
       "c5cc3653-2ee1-402a-aba2-7caae1da4f6c": {
        "id": "c5cc3653-2ee1-402a-aba2-7caae1da4f6c",
        "rgb": [
         43,
         126,
         184
        ]
       },
       "efa7f048-9acb-414c-8b04-a26811511a21": {
        "id": "efa7f048-9acb-414c-8b04-a26811511a21",
        "rgb": [
         25.118061674008803,
         73.60176211453744,
         107.4819383259912
        ]
       }
      },
      "rules": {
       "blockquote": {
        "color": "50f92c45-a630-455b-aec3-788680ec7410"
       },
       "code": {
        "font-family": "Anonymous Pro"
       },
       "h1": {
        "color": "c5cc3653-2ee1-402a-aba2-7caae1da4f6c",
        "font-family": "Lato",
        "font-size": 8
       },
       "h2": {
        "color": "c5cc3653-2ee1-402a-aba2-7caae1da4f6c",
        "font-family": "Lato",
        "font-size": 6
       },
       "h3": {
        "color": "50f92c45-a630-455b-aec3-788680ec7410",
        "font-family": "Lato",
        "font-size": 5.5
       },
       "h4": {
        "color": "c5cc3653-2ee1-402a-aba2-7caae1da4f6c",
        "font-family": "Lato",
        "font-size": 5
       },
       "h5": {
        "font-family": "Lato"
       },
       "h6": {
        "font-family": "Lato"
       },
       "h7": {
        "font-family": "Lato"
       },
       "pre": {
        "font-family": "Anonymous Pro",
        "font-size": 4
       }
      },
      "text-base": {
       "font-family": "Merriweather",
       "font-size": 4
      }
     }
    }
   }
  }
 },
 "nbformat": 4,
 "nbformat_minor": 2
}
